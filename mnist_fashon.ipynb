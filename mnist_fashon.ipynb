{
  "nbformat": 4,
  "nbformat_minor": 0,
  "metadata": {
    "colab": {
      "provenance": []
    },
    "kernelspec": {
      "name": "python3",
      "display_name": "Python 3"
    },
    "language_info": {
      "name": "python"
    },
    "accelerator": "GPU",
    "gpuClass": "standard"
  },
  "cells": [
    {
      "cell_type": "code",
      "execution_count": null,
      "metadata": {
        "id": "9eUWzmjLigPV"
      },
      "outputs": [],
      "source": [
        "from keras.datasets import fashion_mnist\n",
        "from keras.models import Sequential\n",
        "from keras.layers import Dense, Dropout, Flatten, Conv2D, MaxPool2D\n",
        "import numpy as np \n",
        "import matplotlib.pyplot as plt"
      ]
    },
    {
      "cell_type": "code",
      "source": [
        "(train_imgs, train_labels), (test_imgs, test_labels) = fashion_mnist.load_data()"
      ],
      "metadata": {
        "id": "d6zOm4J7ka2d",
        "colab": {
          "base_uri": "https://localhost:8080/"
        },
        "outputId": "c209d982-d2e2-491b-99b1-0e6b62ab1384"
      },
      "execution_count": null,
      "outputs": [
        {
          "output_type": "stream",
          "name": "stdout",
          "text": [
            "Downloading data from https://storage.googleapis.com/tensorflow/tf-keras-datasets/train-labels-idx1-ubyte.gz\n",
            "29515/29515 [==============================] - 0s 0us/step\n",
            "Downloading data from https://storage.googleapis.com/tensorflow/tf-keras-datasets/train-images-idx3-ubyte.gz\n",
            "26421880/26421880 [==============================] - 2s 0us/step\n",
            "Downloading data from https://storage.googleapis.com/tensorflow/tf-keras-datasets/t10k-labels-idx1-ubyte.gz\n",
            "5148/5148 [==============================] - 0s 0us/step\n",
            "Downloading data from https://storage.googleapis.com/tensorflow/tf-keras-datasets/t10k-images-idx3-ubyte.gz\n",
            "4422102/4422102 [==============================] - 0s 0us/step\n"
          ]
        }
      ]
    },
    {
      "cell_type": "code",
      "source": [
        "train_imgs.shape"
      ],
      "metadata": {
        "colab": {
          "base_uri": "https://localhost:8080/"
        },
        "id": "M6YHcaxOlosy",
        "outputId": "27e9f9eb-286e-4151-b653-c54d8cde991b"
      },
      "execution_count": null,
      "outputs": [
        {
          "output_type": "execute_result",
          "data": {
            "text/plain": [
              "(60000, 28, 28)"
            ]
          },
          "metadata": {},
          "execution_count": 4
        }
      ]
    },
    {
      "cell_type": "code",
      "source": [
        "# if backend.image_data_format() == 'channels_first':\n",
        "#   train_imgs = train_imgs.reshape(train_imgs.shape[0], 1, 28, 28)\n",
        "#   test_imgs = test.reshape(test_imgs.shape[0], 1, 28, 28)\n",
        "#   input_shape = (1, 28, 28)\n",
        "\n",
        "# else:\n",
        "#   train_imgs = train_imgs.reshape(train_imgs.shape[0], 28, 28, 1)\n",
        "#   test_imgs = test_imgs.reshape(test_imgs.shape[0], 28, 28, 1)\n",
        "#   input_shape = (28, 28, 1)\n",
        "\n",
        "train_imgs = train_imgs.astype('float32')\n",
        "test_imgs = test_imgs.astype('float32')\n",
        "\n",
        "# normalize to range 0-1\n",
        "train_imgs = train_imgs/255.0\n",
        "test_imgs = test_imgs/255.0\n",
        "\n",
        "print (train_imgs.shape)\n",
        "print (test_imgs.shape)"
      ],
      "metadata": {
        "colab": {
          "base_uri": "https://localhost:8080/"
        },
        "id": "hAJjfRrVlycM",
        "outputId": "f1ea5e25-5eb8-4015-c392-c6f95f736c6a"
      },
      "execution_count": null,
      "outputs": [
        {
          "output_type": "stream",
          "name": "stdout",
          "text": [
            "(60000, 28, 28)\n",
            "(10000, 28, 28)\n"
          ]
        }
      ]
    },
    {
      "cell_type": "code",
      "source": [
        "# convert class vectors to binary class matrices\n",
        "# train_labels = to_categorical(train_labels, 10)\n",
        "# test_labels = to_categorical(test_labels, 10)"
      ],
      "metadata": {
        "id": "oWSzZS73Io8v"
      },
      "execution_count": null,
      "outputs": []
    },
    {
      "cell_type": "code",
      "source": [
        "# create model\n",
        "model = Sequential()\n",
        "# conv layers\n",
        "# model.add(Conv2D(filters = 16, kernel_size = 3, activation= 'relu', input_shape = (28, 28, 1)))\n",
        "# model.add(MaxPool2D(pool_size= 2))\n",
        "model.add(Conv2D(filters = 32, kernel_size = 3, activation= 'relu', input_shape= (28, 28, 1)))\n",
        "model.add(MaxPool2D(pool_size= 2))\n",
        "model.add(Conv2D(filters = 64, kernel_size = 3, activation= 'relu'))\n",
        "model.add(MaxPool2D(pool_size= 2))\n",
        "\n",
        "# hidden layers\n",
        "model.add(Flatten())\n",
        "model.add(Dense(200, activation='relu'))\n",
        "model.add(Dense(10, activation='softmax'))\n",
        "model.summary()"
      ],
      "metadata": {
        "colab": {
          "base_uri": "https://localhost:8080/"
        },
        "id": "Ify2QwbvAUy_",
        "outputId": "703d783a-d578-42c8-bd5c-9d6f5a3c51d5"
      },
      "execution_count": null,
      "outputs": [
        {
          "output_type": "stream",
          "name": "stdout",
          "text": [
            "Model: \"sequential_2\"\n",
            "_________________________________________________________________\n",
            " Layer (type)                Output Shape              Param #   \n",
            "=================================================================\n",
            " conv2d_4 (Conv2D)           (None, 26, 26, 32)        320       \n",
            "                                                                 \n",
            " max_pooling2d_4 (MaxPooling  (None, 13, 13, 32)       0         \n",
            " 2D)                                                             \n",
            "                                                                 \n",
            " conv2d_5 (Conv2D)           (None, 11, 11, 64)        18496     \n",
            "                                                                 \n",
            " max_pooling2d_5 (MaxPooling  (None, 5, 5, 64)         0         \n",
            " 2D)                                                             \n",
            "                                                                 \n",
            " flatten_2 (Flatten)         (None, 1600)              0         \n",
            "                                                                 \n",
            " dense_4 (Dense)             (None, 200)               320200    \n",
            "                                                                 \n",
            " dense_5 (Dense)             (None, 10)                2010      \n",
            "                                                                 \n",
            "=================================================================\n",
            "Total params: 341,026\n",
            "Trainable params: 341,026\n",
            "Non-trainable params: 0\n",
            "_________________________________________________________________\n"
          ]
        }
      ]
    },
    {
      "cell_type": "code",
      "source": [
        "model.compile(loss = 'sparse_categorical_crossentropy', optimizer= 'rmsprop', metrics= ['accuracy'])\n",
        "model.fit(train_imgs, train_labels, batch_size = 64, epochs= 10, validation_data=(test_imgs, test_labels))"
      ],
      "metadata": {
        "colab": {
          "base_uri": "https://localhost:8080/"
        },
        "id": "xKfXt2k4Frbd",
        "outputId": "ba11f008-c910-4b23-ff27-f78a8313dcb3"
      },
      "execution_count": null,
      "outputs": [
        {
          "output_type": "stream",
          "name": "stdout",
          "text": [
            "Epoch 1/10\n",
            "938/938 [==============================] - 4s 4ms/step - loss: 0.4753 - accuracy: 0.8247 - val_loss: 0.4185 - val_accuracy: 0.8520\n",
            "Epoch 2/10\n",
            "938/938 [==============================] - 4s 4ms/step - loss: 0.3051 - accuracy: 0.8883 - val_loss: 0.3394 - val_accuracy: 0.8801\n",
            "Epoch 3/10\n",
            "938/938 [==============================] - 4s 4ms/step - loss: 0.2565 - accuracy: 0.9054 - val_loss: 0.2897 - val_accuracy: 0.8927\n",
            "Epoch 4/10\n",
            "938/938 [==============================] - 4s 4ms/step - loss: 0.2268 - accuracy: 0.9172 - val_loss: 0.2974 - val_accuracy: 0.8883\n",
            "Epoch 5/10\n",
            "938/938 [==============================] - 4s 4ms/step - loss: 0.2042 - accuracy: 0.9248 - val_loss: 0.2573 - val_accuracy: 0.9071\n",
            "Epoch 6/10\n",
            "938/938 [==============================] - 4s 4ms/step - loss: 0.1850 - accuracy: 0.9319 - val_loss: 0.2624 - val_accuracy: 0.9053\n",
            "Epoch 7/10\n",
            "938/938 [==============================] - 4s 4ms/step - loss: 0.1677 - accuracy: 0.9378 - val_loss: 0.2480 - val_accuracy: 0.9132\n",
            "Epoch 8/10\n",
            "938/938 [==============================] - 4s 4ms/step - loss: 0.1526 - accuracy: 0.9445 - val_loss: 0.2834 - val_accuracy: 0.9083\n",
            "Epoch 9/10\n",
            "938/938 [==============================] - 4s 4ms/step - loss: 0.1407 - accuracy: 0.9485 - val_loss: 0.2658 - val_accuracy: 0.9089\n",
            "Epoch 10/10\n",
            "938/938 [==============================] - 4s 4ms/step - loss: 0.1288 - accuracy: 0.9526 - val_loss: 0.2880 - val_accuracy: 0.9095\n"
          ]
        },
        {
          "output_type": "execute_result",
          "data": {
            "text/plain": [
              "<keras.callbacks.History at 0x7efb9319fbb0>"
            ]
          },
          "metadata": {},
          "execution_count": 22
        }
      ]
    },
    {
      "cell_type": "code",
      "source": [
        "score = model.evaluate(test_imgs, test_labels)"
      ],
      "metadata": {
        "colab": {
          "base_uri": "https://localhost:8080/"
        },
        "id": "msVO2KUMMzId",
        "outputId": "78e22fda-7d24-4d6c-e896-43290347cbc5"
      },
      "execution_count": null,
      "outputs": [
        {
          "output_type": "stream",
          "name": "stdout",
          "text": [
            "313/313 [==============================] - 1s 2ms/step - loss: 0.2880 - accuracy: 0.9095\n"
          ]
        }
      ]
    },
    {
      "cell_type": "code",
      "source": [
        "labels = [\"T-shirt/top\", \"Trouser\", \"Pullover\", \"Dress\", \"Coat\", \"Sandal\", \"Shirt\", \"Sneaker\", \"Bag\", \"Ankle boot\"]"
      ],
      "metadata": {
        "id": "Vvpc3GxONwb2"
      },
      "execution_count": null,
      "outputs": []
    },
    {
      "cell_type": "code",
      "source": [
        "# make prediction\n",
        "pred = model.predict(test_imgs)"
      ],
      "metadata": {
        "colab": {
          "base_uri": "https://localhost:8080/"
        },
        "id": "8qVJkdYYQWmc",
        "outputId": "90080263-4e3a-49df-b496-92009f16c05f"
      },
      "execution_count": null,
      "outputs": [
        {
          "output_type": "stream",
          "name": "stdout",
          "text": [
            "313/313 [==============================] - 1s 2ms/step\n"
          ]
        }
      ]
    },
    {
      "cell_type": "code",
      "source": [
        "print(labels[0])"
      ],
      "metadata": {
        "colab": {
          "base_uri": "https://localhost:8080/"
        },
        "id": "lF7SEovRRp2q",
        "outputId": "956f0522-40d3-4b63-eb41-ae868abeac02"
      },
      "execution_count": null,
      "outputs": [
        {
          "output_type": "stream",
          "name": "stdout",
          "text": [
            "T-shirt/top\n"
          ]
        }
      ]
    },
    {
      "cell_type": "code",
      "source": [
        "fig = plt.figure(figsize=(16,8))\n",
        "num_of_images = 12\n",
        "for i in range(num_of_images):\n",
        "  ax = fig.add_subplot(3,4, i+1, xticks=[],yticks=[])\n",
        "  ax.imshow(train_imgs[i], cmap='gray')\n",
        "  ax.set_title(str(train_labels[i]))\n",
        "  classes_pred = labels[np.argmax(pred[i])]\n",
        "  classes_true = labels[train_labels[i]]\n",
        "  ax.set_title(f'{classes_pred}   {classes_true}')"
      ],
      "metadata": {
        "colab": {
          "base_uri": "https://localhost:8080/",
          "height": 167
        },
        "id": "hxZBKJdVQjZx",
        "outputId": "08553dd7-10b5-4390-debd-f150edb90f5e"
      },
      "execution_count": null,
      "outputs": [
        {
          "output_type": "display_data",
          "data": {
            "text/plain": [
              "<Figure size 1152x576 with 12 Axes>"
            ],
            "image/png": "[encoded data removed]"
          },
          "metadata": {}
        }
      ]
    },
    {
      "cell_type": "code",
      "source": [],
      "metadata": {
        "id": "PU19-LIVRNdn"
      },
      "execution_count": null,
      "outputs": []
    }
  ]
}